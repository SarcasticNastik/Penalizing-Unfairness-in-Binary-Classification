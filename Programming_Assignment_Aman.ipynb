{
 "cells": [
  {
   "cell_type": "markdown",
   "id": "e6dcf9b0",
   "metadata": {},
   "source": [
    "## FPE Programming Assignment (15 Marks)\n",
    "\n",
    "### Implement the technique proposed in the paper \"Penalizing Unfairness in Binary Classification\" and reproduce the experimental results\n",
    "\n",
    "    - Find the paper here: https://arxiv.org/pdf/1707.00044.pdf\n",
    "    \n",
    "\n",
    "(6 marks) Reproduce the results shown in Table-1\n",
    "        \n",
    "           You need to implement the proposed method with AVD Penalizers and reproduce results for COMPAS dataset for all three Considerations shown in the table. Furthermore, you need to compare the above results with Zafar et al. and Zafar et al. Baseline for all three Considerations shown in the Table-1.\n",
    "           \n",
    "           \n",
    "(4 marks) Reproduce the results shown in Table-3\n",
    "          \n",
    "           You need to implement the proposed method with AVD Penalizers and Vanilla Regularized Logistic Regression, and reproduce results for all three datasets mentioned in the Table-3.\n",
    "\n",
    "          \n",
    "(5 marks) Reproduce the results shown in Figure-2 and 3\n",
    "          \n",
    "           You need to reproduce the plots shown in Figure-2 (COMPAS dataset) and Figure-3 (Adult Dataset).\n",
    "\n",
    "Note: All the experiments and details have to be clearly explained\n",
    "      \n",
    "      \n",
    "#### Kindly complete the code in the following notebook itself.\n",
    "\n",
    "#### The soft deadline for submission is 15th Nov. The hard deadline for submission is 28th Nov. with 20% penalty."
   ]
  },
  {
   "cell_type": "code",
   "execution_count": 1,
   "id": "dd35ac5b",
   "metadata": {
    "pycharm": {
     "is_executing": true
    }
   },
   "outputs": [],
   "source": [
    "import numpy as np\n",
    "import pandas as pd\n",
    "np.random.seed(42)"
   ]
  },
  {
   "cell_type": "markdown",
   "id": "30c2c893",
   "metadata": {},
   "source": [
    "---"
   ]
  },
  {
   "cell_type": "markdown",
   "id": "78268a24",
   "metadata": {},
   "source": [
    "# Formulating the problem in CVXPY\n",
    "\n",
    "For the logistic regression problem we need to find $w \\in R^{dim_X}$ which minimizes the following loss for our model, along with corresponding fairness penalties with $d_1$ and $d_2$ set-up according to desired tradeoff b/w accuracy, FPR matching and FNR matching.\n",
    "\n",
    "$$\\begin{align}\n",
    "\\text{Objective: } &\\text{minimize}_{\\theta} &&L_S^{0-1}(\\theta) + d_1 \\textbf{D}_1 + d_2 \\textbf{D}_2\n",
    "\\end{align}$$\n",
    "\n",
    "Relaxed form of this loss (with additional $\\ell_2$ regularization term) gives us the formulation:\n",
    "$$\\begin{align}\n",
    "\\text{Proxy:} &\\text{minimize}&& - \\ell\\ell(\\theta;S) + c_1R_{FP}(\\theta;S) + c_2R_{FN}(\\theta;S) + q \\| \\theta \\|^2.\n",
    "\\end{align}$$\n",
    " where $\\ell\\ell$ is:\n",
    " $$\\ell\\ell(\\theta;S) = \\sum\\limits_{i=1}^{i=|S|} y_1 \\theta^Tx_i - log(1+exp(\\theta^Tx_i))$$"
   ]
  },
  {
   "cell_type": "markdown",
   "id": "2c186147",
   "metadata": {},
   "source": [
    "### REDACTED\n",
    "Note: Paper specifies 5-fold cross validation on the train dataset S available, but \n",
    "their implementation conforms with repeated cross-validation, specifically 5 2-fold\n",
    "cross validation (with validation size 0.5). have opted for the repeated cross-validation which better represents the observations.\n",
    "\n",
    "Rather, we have a *Shuffle split* system which samples our train and test sets for  validation at random for `num` times.\n",
    "Link: https://amueller.github.io/aml/04-model-evaluation/1-data-splitting-strategies.html"
   ]
  },
  {
   "cell_type": "markdown",
   "id": "263e85a2",
   "metadata": {},
   "source": [
    "##### Note\n",
    "\n",
    "The *vanilla version* of this problem is already being solved by the above function (when $val_c := 0$)."
   ]
  },
  {
   "cell_type": "markdown",
   "id": "0b4dd6ee",
   "metadata": {},
   "source": [
    "## Subpopulations Utils\n",
    "\n",
    "$$S_{a, y} = \\{x^i \\in S: x_1^i = a, y^i = y\\} \\quad \\text{for } a, y \\in \\{0, 1\\}$$ "
   ]
  },
  {
   "cell_type": "code",
   "execution_count": 2,
   "id": "0c4e0b51",
   "metadata": {},
   "outputs": [],
   "source": [
    "S = [[0, 0], [0, 0]]\n",
    "S[0][0] = lambda dataset, labels: dataset[np.where(\n",
    "    (dataset[:, 0] == 0) & (labels == 0))]\n",
    "S[0][1] = lambda dataset, labels: dataset[np.where(\n",
    "    (dataset[:, 0] == 0) & (labels == 1))]\n",
    "S[1][0] = lambda dataset, labels: dataset[np.where(\n",
    "    (dataset[:, 0] == 1) & (labels == 0))]\n",
    "S[1][1] = lambda dataset, labels: dataset[np.where(\n",
    "    (dataset[:, 0] == 1) & (labels == 1))]\n"
   ]
  },
  {
   "cell_type": "markdown",
   "id": "247158a6",
   "metadata": {},
   "source": [
    "## Absolute Value Difference Penalty\n",
    "\n",
    "$$R_{FP}^{AVD}(\\theta;S) = \\left| {\\theta}^T \\left(\\dfrac {\\sum\\limits_{x \\in S_{00}} x} { |S_{00}| } -  \\dfrac {\\sum\\limits_{x \\in S_{10}} x} { |S_{10}| }\\right) \\right|$$"
   ]
  },
  {
   "cell_type": "code",
   "execution_count": 3,
   "id": "9ae2c042",
   "metadata": {},
   "outputs": [],
   "source": [
    "R = {'AVD':{}, 'SD':{}}\n",
    "eps=1e-9\n",
    "R['AVD']['FP'] = lambda S00, S01, theta: np.abs(theta.T @ ((np.sum(S00,axis=0) / (eps+S00.shape[0])) - (np.sum(S01,axis=0) / (eps+S01.shape[0]))))\n",
    "R['AVD']['FN'] = lambda S10, S11, theta: np.abs(theta.T @ ((np.sum(S10,axis=0) / (eps+S10.shape[0])) - (np.sum(S11,axis=0) / (eps+S11.shape[0]))))\n",
    "\n",
    "R['SD']['FP'] = lambda S00, S01, theta: (R['AVD']['FP'](S00, S01, theta))**2\n",
    "R['SD']['FN'] = lambda S10, S11, theta: (R['AVD']['FN'](S10, S11, theta))**2"
   ]
  },
  {
   "cell_type": "code",
   "execution_count": 4,
   "id": "9aa781c9",
   "metadata": {},
   "outputs": [],
   "source": [
    "def solve_problem_instance(X, y, c_1, c_2, gamma, squared=False):\n",
    "    import cvxpy as cp\n",
    "    import numpy as np\n",
    "    \"\"\"\n",
    "    minimize log-likelihood + c_1 R_FP [**2] + c_2 R_FN [**2] + gamma \\|theta\\|^2_2\n",
    "    returns: w\n",
    "    \"\"\"\n",
    "    w = cp.Variable(X.shape[1])\n",
    "    \n",
    "    # Generate S for given dataset\n",
    "    #S_ay -> protected attribute = a, label = y\n",
    "    instanceS = [[0,0], [0,0]]\n",
    "    instanceS[0][0] = S[0][0](X, y)\n",
    "    instanceS[0][1] = S[0][1](X, y)\n",
    "    instanceS[1][0] = S[1][0](X, y)\n",
    "    instanceS[1][1] = S[1][1](X, y)\n",
    "    eps = 1e-9\n",
    "    if squared == False:\n",
    "        R_FN = cp.abs(w.T @ ((np.sum(instanceS[1][1],axis=0) / (eps + instanceS[1][1].shape[0])) - (np.sum(instanceS[0][1],axis=0) / (eps + instanceS[0][1].shape[0]))))\n",
    "        R_FP = cp.abs(w.T @ ((np.sum(instanceS[1][0],axis=0) / (eps + instanceS[1][0].shape[0])) - (np.sum(instanceS[0][0],axis=0) / (eps + instanceS[0][0].shape[0]))))\n",
    "    else:\n",
    "        R_FP = cp.square(w.T @ ((np.sum(instanceS[1][0],axis=0) / (eps + instanceS[1][0].shape[0])) - (np.sum(instanceS[0][0],axis=0) / (eps + instanceS[0][0].shape[0]))))\n",
    "        R_FN = cp.square(w.T @ ((np.sum(instanceS[1][1],axis=0) / (eps + instanceS[1][1].shape[0])) - (np.sum(instanceS[0][1],axis=0) / (eps + instanceS[0][1].shape[0]))))\n",
    "    l2_norm_sq = cp.sum_squares(w)\n",
    "    # logloss = y.T * (X * w) - cp.sum(cp.logistic(X * w))\n",
    "    logloss = y.T @ (X @ w) - cp.sum(cp.logistic(X @ w))\n",
    "    prob = cp.Problem(cp.Minimize(-logloss + c_1 * R_FP + c_2 * R_FN + gamma * l2_norm_sq))\n",
    "    prob.solve(solver='ECOS', verbose=False ,max_iters=1000)\n",
    "    \n",
    "    return {\n",
    "        'w': w.value,\n",
    "        'll': logloss.value,\n",
    "        'fpr_diff': R_FP.value,\n",
    "        'fnr_diff': R_FN.value,\n",
    "        'loss': -1 * logloss.value + c_1 * R_FP.value + c_2 * R_FN.value\n",
    "    }"
   ]
  },
  {
   "cell_type": "markdown",
   "id": "b79d3f9b",
   "metadata": {},
   "source": [
    "## Disparity b/w groups\n",
    "\n",
    "> Evaluated on the test set.\n",
    "\n",
    "\n",
    "### FPR\n",
    "\n",
    "$$\\textbf{D}_{FPR} = |FPR_{a=0}(\\hat{Y}) - FPR_{a=1}(\\hat{Y})|$$\n",
    "\n",
    "### FNR\n",
    "\n",
    "$$\\textbf{D}_{FNR} = |FNR_{a=0}(\\hat{Y}) - FNR_{a=1}(\\hat{Y})|$$\n"
   ]
  },
  {
   "cell_type": "code",
   "execution_count": 5,
   "id": "6fd38d6f",
   "metadata": {},
   "outputs": [],
   "source": [
    "eps=1e-9\n",
    "fpr = lambda y, yhat: yhat.T @ (np.ones(y.shape) - y) / (eps + np.sum(np.ones(y.shape) - y))\n",
    "fnr = lambda y, yhat: (np.ones(y.shape) - yhat).T @ y / (eps + np.sum(y))\n",
    "Disparity = {}\n",
    "Disparity['fpr'] = lambda ya, yhata, yb, yhatb: np.abs(fpr(ya, yhata)- fpr(yb, yhatb)) \n",
    "Disparity['fnr'] = lambda ya, yhata, yb, yhatb: np.abs(fnr(ya, yhata)- fnr(yb, yhatb)) "
   ]
  },
  {
   "cell_type": "code",
   "execution_count": 6,
   "id": "5bacbbff",
   "metadata": {},
   "outputs": [],
   "source": [
    "def stats(y, yhat):\n",
    "    ones = np.ones(y.shape)\n",
    "    # fpr = lambda y, yhat: yhat.T @ (ones - y) / np.sum(ones - y)\n",
    "    # fnr = lambda y, yhat: (ones - yhat).T @ y / np.sum(y)\n",
    "    acc = lambda y, yhat: (np.sum(yhat.T @ y) + np.sum((ones - yhat).T @ (ones - y))) / y.shape[0]\n",
    "    \n",
    "    return {'fpr': (fpr(y, yhat)).item(),\n",
    "            'fnr': (fnr(y, yhat)).item(),\n",
    "            'acc': (acc(y, yhat)).item()}"
   ]
  },
  {
   "cell_type": "code",
   "execution_count": 7,
   "id": "5c233a70",
   "metadata": {},
   "outputs": [],
   "source": [
    "def eval_stats(X, y, c1, c2, gamma, w, squared=False):\n",
    "    \"\"\"\n",
    "    Evaluate model `w` on dataset (X,y) based on objective and relaxed loss scores\n",
    "    returns: Dict(model=)\n",
    "    \"\"\"\n",
    "    yhat = np.round(1 / (1 + np.exp(-(X @ w).astype(float))))\n",
    "    a = np.where(X[:, 0] == 0)\n",
    "    b = np.where(X[:, 0] == 1)\n",
    "\n",
    "    actual_fpr_diff = Disparity['fpr'](y[a], yhat[a], y[b], yhat[b])\n",
    "    actual_fnr_diff = Disparity['fnr'](y[a], yhat[a], y[b], yhat[b])\n",
    "    actual_stats = stats(y, yhat)\n",
    "\n",
    "    instanceS = [[0, 0], [0, 0]]\n",
    "    instanceS[0][0] = S[0][0](X, y)\n",
    "    instanceS[0][1] = S[0][1](X, y)\n",
    "    instanceS[1][0] = S[1][0](X, y)\n",
    "    instanceS[1][1] = S[1][1](X, y)\n",
    "\n",
    "    R_FN = R['AVD' if not squared else 'SD']['FP'](instanceS[1][1], instanceS[0][1], w)\n",
    "    R_FP = R['AVD' if not squared else 'SD']['FN'](instanceS[1][0], instanceS[0][0], w)\n",
    "\n",
    "    logloss = y.T @ (X @ w) - np.sum(np.log(1+np.exp((X @ w).astype(float))))\n",
    "\n",
    "    return {\n",
    "        'objective': {\n",
    "            'accuracy': actual_stats['acc'],\n",
    "            'fpr': actual_stats['fpr'],\n",
    "            'fnr': actual_stats['fnr'],\n",
    "            'fpr_diff': actual_fpr_diff,\n",
    "            'fnr_diff': actual_fnr_diff,\n",
    "            'loss': (1 - actual_stats['acc']) + (actual_fpr_diff if c1 > 0 else 0) + (actual_fnr_diff if c2 > 0 else 0),\n",
    "        },\n",
    "        'relaxed': {\n",
    "            'fnr_diff': R_FN.item(),\n",
    "            'fpr_diff': R_FP.item(),\n",
    "            'll': logloss.item(),  # logistic loss,\n",
    "            'loss': (-logloss + c1 * R_FP + c2 * R_FN).item(),\n",
    "        },\n",
    "    }\n"
   ]
  },
  {
   "attachments": {
    "image.png": {
     "image/png": "[encoded data removed]"
    }
   },
   "cell_type": "markdown",
   "id": "2a2c5298",
   "metadata": {},
   "source": [
    "# AVD Penalizers Method \n",
    "\n",
    "> Given $d_0$ and $d_1$.\n",
    "\n",
    "1. Split dataset at random into training set $S$ and test set $T$.\n",
    "2. For each $c$ in some range, perform **cross-validation** on $S$ to select the corresponding best value $q_c$ for the regularization parameter.\n",
    "3. For each $(c, q_c)$, let $$\\theta_c = \\text{argmin}_{\\theta}\\text{ Proxy}(\\theta;S,c, c,q_c)$$\n",
    "4. Select $\\theta^* \\in \\text{argmin}_{\\theta_C} \\text{ Objective}(\\theta_c;S,d_1,d_2)$\n",
    "5. Evaluate performance on test set $T$."
   ]
  },
  {
   "cell_type": "code",
   "execution_count": 8,
   "id": "63990e26",
   "metadata": {},
   "outputs": [],
   "source": [
    "from tqdm.notebook import tqdm\n",
    "\n",
    "\n",
    "def solve_problem(X, y, problem):\n",
    "    \"\"\" Solve the optimization problem as defined in the paper: https://arxiv.org/pdf/1707.00044.pdf\"\"\"\n",
    "    from sklearn.model_selection import train_test_split\n",
    "\n",
    "    range_c = np.linspace(\n",
    "        problem['c'][0], problem['c'][1], num=problem['c'][2])\n",
    "    range_gamma = np.linspace(\n",
    "        problem['gamma'][0], problem['gamma'][1], num=problem['gamma'][2])\n",
    "\n",
    "    # 1. Done\n",
    "    X_train_all, X_test_all, y_train_all, y_test_all = train_test_split(\n",
    "        X, y, test_size=problem['test_size'], random_state=42)\n",
    "\n",
    "    # For a given val_c, stores model stats for\n",
    "    results_all = [[] for _ in range(problem['c'][2])]\n",
    "\n",
    "    \n",
    "    optimal_gamma_map = {c: 0 for c in range_c}\n",
    "\n",
    "    # Finding optimal gamma for every `c` there can be\n",
    "    assert (problem['fn'] == True or problem['fp'] == True)\n",
    "\n",
    "    for i, val_c in tqdm(enumerate(range_c), total=len(range_c)):\n",
    "        tmp_gamma_results = [[] for _ in range(problem['gamma'][2])]\n",
    "        for fold in range(problem['folds']):\n",
    "            # set random state variable for different folds\n",
    "            x_train_val, x_test_val, y_train_val, y_test_val = train_test_split(\n",
    "                X_train_all, y_train_all, test_size=problem['validation_size'], random_state=i*10)\n",
    "\n",
    "            # Solve problem for all gammas\n",
    "            for idx, val_gamma in enumerate(range_gamma):\n",
    "                try:\n",
    "                    solution = solve_problem_instance(x_train_val, y_train_val, float(val_c if problem['fp'] == True else 0),\n",
    "                                                    float(\n",
    "                                                        val_c if problem['fn'] == True else 0), val_gamma,\n",
    "                                                    squared=problem['fair_penalty'] != 'AVD')\n",
    "                    # Store all the stats, D_FP, D_TP, Accuracy\n",
    "                    # Evaluate on the validation-held out set i.e. test set\n",
    "                    tmp_gamma_results[idx] += [eval_stats(x_test_val, y_test_val, float(val_c if problem['fp'] == True else 0), float(\n",
    "                        val_c if problem['fn'] == True else 0), val_gamma, solution['w'], squared=problem['fair_penalty'] != 'AVD')]\n",
    "                except Exception as e:\n",
    "                    # print(e)\n",
    "                    print(f\"Solver fails for c:{val_c} and gamma:{val_gamma}\")\n",
    "                    pass\n",
    "\n",
    "        avg_cross_validation_results = np.array([np.average([res_gamma_valc['objective' if val_c >= 0.001 else 'relaxed']['loss']\n",
    "                                                for res_gamma_valc in tmp_gamma_results[idx]]) for idx in range(len(tmp_gamma_results))])\n",
    "\n",
    "        # Find optimal gamma for this particular C from the fold results\n",
    "        optimal_index = avg_cross_validation_results.argmin()\n",
    "        optimal_gamma_map[val_c] = range_gamma[optimal_index]\n",
    "        \n",
    "        # Test the trained model\n",
    "        try:\n",
    "            best_model_c = solve_problem_instance(X_train_all, y_train_all, float(val_c if problem['fp'] == True else 0),\n",
    "                                                float(\n",
    "                val_c if problem['fn'] == True else 0), optimal_gamma_map[val_c], squared=problem['fair_penalty'] != 'AVD')\n",
    "\n",
    "            results_all[i] = eval_stats(X_test_all, y_test_all, float(val_c if problem['fp'] == True else 0),\n",
    "                                        float(\n",
    "                val_c if problem['fn'] == True else 0), optimal_gamma_map[val_c], best_model_c['w'], squared=problem['fair_penalty'] != 'AVD')\n",
    "        except Exception as e:\n",
    "            # print(e)\n",
    "            print(f\"Optimal model solver failed for c: {val_c}\")\n",
    "            pass\n",
    "\n",
    "    # # From all the models, choose the one performing best on objective loss over test set T.\n",
    "    # best_model_idx= np.array([res['objective']['accuracy'] for res in results_all]).argmin()\n",
    "\n",
    "    return results_all\n"
   ]
  },
  {
   "cell_type": "code",
   "execution_count": 9,
   "id": "34c9ee3f",
   "metadata": {},
   "outputs": [],
   "source": [
    "def solve(X, y, problem):\n",
    "    \"\"\" For a given labelled dataset (X, y), solve for best w \"\"\"\n",
    "    results = {\n",
    "        'Vanilla': {\n",
    "            'accuracy': 0,\n",
    "            'fpr_diff': 0,\n",
    "            'fnr_diff': 0,\n",
    "            'relaxed_fpr_diff': 0,\n",
    "            'relaxed_fnr_diff': 0,\n",
    "        },\n",
    "        'AVD': {\n",
    "            'accuracy': [],\n",
    "            'fpr_diff': [],\n",
    "            'fnr_diff': [],\n",
    "            'relaxed_fpr_diff': [],\n",
    "            'relaxed_fnr_diff': []\n",
    "        },\n",
    "        'SD': {\n",
    "            'accuracy': [],\n",
    "            'fpr_diff': [],\n",
    "            'fnr_diff': [],\n",
    "            'relaxed_fpr_diff': [],\n",
    "            'relaxed_fnr_diff': []\n",
    "        }\n",
    "    }\n",
    "\n",
    "    for it in range(problem['nruns']):\n",
    "        problem['fair_penalty'] = 'AVD'\n",
    "        avd_results = solve_problem(X, y, problem)\n",
    "        assert(len(avd_results) > 0)\n",
    "        results['Vanilla']['accuracy'] += avd_results[0]['objective']['accuracy']\n",
    "        results['Vanilla']['fpr_diff'] += avd_results[0]['objective']['fpr_diff']\n",
    "        results['Vanilla']['fnr_diff'] += avd_results[0]['objective']['fnr_diff']\n",
    "        results['Vanilla']['relaxed_fpr_diff'] += avd_results[0]['relaxed']['fpr_diff']\n",
    "        results['Vanilla']['relaxed_fnr_diff'] += avd_results[0]['relaxed']['fnr_diff']\n",
    "\n",
    "\n",
    "        for idx in range(len(avd_results)):\n",
    "            assert (avd_results[idx]['objective']['accuracy'] <=1)\n",
    "            results['AVD']['accuracy'] += [avd_results[idx]['objective']['accuracy']]\n",
    "            assert (avd_results[idx]['objective']['fpr_diff'] <=1)\n",
    "            results['AVD']['fpr_diff'] += [avd_results[idx]['objective']['fpr_diff']]\n",
    "            assert (avd_results[idx]['objective']['fnr_diff'] <=1)\n",
    "            results['AVD']['fnr_diff'] += [avd_results[idx]['objective']['fnr_diff']]\n",
    "            assert (avd_results[idx]['relaxed']['fpr_diff'] <=1)\n",
    "            results['AVD']['relaxed_fpr_diff'] += [avd_results[idx]['relaxed']['fpr_diff']]\n",
    "            assert (avd_results[idx]['relaxed']['fpr_diff'] <=1)\n",
    "            results['AVD']['relaxed_fnr_diff'] += [avd_results[idx]['relaxed']['fnr_diff']]\n",
    "\n",
    "        problem['fair_penalty'] = 'SD'\n",
    "        sd_results = solve_problem(X, y, problem)\n",
    "\n",
    "        for idx in range(len(sd_results)):\n",
    "            results['SD']['accuracy'] += [sd_results[idx]['objective']['accuracy']]\n",
    "            results['SD']['fpr_diff'] += [sd_results[idx]['objective']['fpr_diff']]\n",
    "            results['SD']['fnr_diff'] += [sd_results[idx]['objective']['fnr_diff']]\n",
    "            results['SD']['relaxed_fpr_diff'] += [sd_results[idx]['relaxed']['fpr_diff']]\n",
    "            results['SD']['relaxed_fnr_diff'] += [sd_results[idx]['relaxed']['fnr_diff']]\n",
    "    \n",
    "    for key in results['Vanilla'].keys():\n",
    "        results['Vanilla'][key] /= problem['nruns']\n",
    "\n",
    "    for key in results['AVD'].keys():\n",
    "        results['AVD'][key] = np.array(results['AVD'][key])\n",
    "        temp = results['AVD'][key].reshape(problem['nruns'],-1)\n",
    "        results['AVD'][key] = np.sum(temp, axis=0)\n",
    "        results['AVD'][key] /= problem['nruns']\n",
    "\n",
    "    for key in results['SD'].keys():\n",
    "        results['SD'][key] = np.array(results['SD'][key])\n",
    "        temp = results['SD'][key].reshape(problem['nruns'],-1)\n",
    "        results['SD'][key] = np.sum(temp, axis=0)\n",
    "        results['SD'][key] /= problem['nruns']\n",
    "\n",
    "    return results"
   ]
  },
  {
   "cell_type": "markdown",
   "id": "d841b290",
   "metadata": {},
   "source": [
    "----"
   ]
  },
  {
   "cell_type": "markdown",
   "id": "6334245e",
   "metadata": {},
   "source": [
    "---\n"
   ]
  },
  {
   "cell_type": "markdown",
   "id": "01cf714a",
   "metadata": {},
   "source": [
    "# PART 1"
   ]
  },
  {
   "cell_type": "markdown",
   "id": "5ab42f73",
   "metadata": {},
   "source": [
    "## Data Preprocessing\n",
    "\n",
    "### COMPAS"
   ]
  },
  {
   "cell_type": "code",
   "execution_count": 10,
   "id": "42300829",
   "metadata": {},
   "outputs": [],
   "source": [
    "def process_data(df, data_extract, transform):\n",
    "    \"\"\" \n",
    "    Parse the dataset according to data_extract \n",
    "    returns: X[:], y[:] where X are the stacked input variables (with x_1 being protected) and y is the corresponding label \n",
    "    \"\"\"\n",
    "\n",
    "    for header in transform.keys():\n",
    "        df[header].replace(transform[header], inplace=True)\n",
    "    X = df[[*data_extract['input_columns']]]\n",
    "    y = df[[data_extract['label_column']]]\n",
    "\n",
    "    for header in X.columns:\n",
    "        numeric_values =  pd.to_numeric(X[header], errors='coerce').notnull()\n",
    "        X = X[numeric_values]\n",
    "        y = y[numeric_values]\n",
    "    \n",
    "    numeric_values = pd.to_numeric(y[data_extract['label_column']], errors='coerce').notnull()\n",
    "    X = X[numeric_values]\n",
    "    y = y[numeric_values]\n",
    "\n",
    "    X = X.values\n",
    "    y = y.values.reshape(-1,)\n",
    "    return X.astype(float), y.astype(float)"
   ]
  },
  {
   "cell_type": "code",
   "execution_count": 11,
   "id": "122d02f2",
   "metadata": {},
   "outputs": [],
   "source": [
    "dataset = {}\n",
    "# Stores only the real values, use association to interpret the output\n",
    "dataset['compas'] = pd.read_csv('dataset/compas/compas-scores-two-years.csv')\n",
    "# dataset['compas']"
   ]
  },
  {
   "cell_type": "markdown",
   "id": "df964bcf",
   "metadata": {},
   "source": [
    "### Mapping input space to Reals \n",
    "\n",
    "#### COMPAS Dataset"
   ]
  },
  {
   "cell_type": "code",
   "execution_count": 12,
   "id": "8ebf36cc",
   "metadata": {},
   "outputs": [],
   "source": [
    "transform = {}\n",
    "transform['compas'] = {\n",
    "    'race': {\n",
    "      'Caucasian': 0,\n",
    "      'African-American': 1\n",
    "    },\n",
    "    'sex': {\n",
    "        'Male': 0,\n",
    "        'Female': 1,\n",
    "    },\n",
    "    'c_charge_degree': {\n",
    "        'M': 0,\n",
    "        'F': 1\n",
    "    },\n",
    "}"
   ]
  },
  {
   "cell_type": "markdown",
   "id": "c9b23143",
   "metadata": {},
   "source": [
    "#### Input variables extraction\n"
   ]
  },
  {
   "cell_type": "code",
   "execution_count": 13,
   "id": "8be16573",
   "metadata": {},
   "outputs": [],
   "source": [
    "fmt = {}\n",
    "fmt['compas'] = {\n",
    "    # 5 features where 1st feature is the protected attribute\n",
    "    'input_columns': ['race','age','sex','priors_count','c_charge_degree'], \n",
    "    'label_column': 'two_year_recid',\n",
    "}"
   ]
  },
  {
   "cell_type": "markdown",
   "id": "b46ccca7",
   "metadata": {},
   "source": [
    "#### Set default problem parameters"
   ]
  },
  {
   "cell_type": "code",
   "execution_count": 14,
   "id": "0d2325d9",
   "metadata": {},
   "outputs": [],
   "source": [
    "problem = {}\n",
    "problem['compas'] = {\n",
    "    'c': (0, 400, 21),# 21\n",
    "    'gamma': (0, 100, 11),\n",
    "    'validation_size': 0.5,\n",
    "    'folds': 5,\n",
    "    'fp': False,\n",
    "    'fn': False,\n",
    "    'test_size': 0.3,\n",
    "    'nruns': 5\n",
    "}"
   ]
  },
  {
   "cell_type": "code",
   "execution_count": 16,
   "id": "4d8c0faa",
   "metadata": {},
   "outputs": [
    {
     "name": "stderr",
     "output_type": "stream",
     "text": [
      "/tmp/ipykernel_17715/3429013367.py:10: SettingWithCopyWarning: \n",
      "A value is trying to be set on a copy of a slice from a DataFrame\n",
      "\n",
      "See the caveats in the documentation: https://pandas.pydata.org/pandas-docs/stable/user_guide/indexing.html#returning-a-view-versus-a-copy\n",
      "  X[header].replace(transform[header], inplace=True)\n"
     ]
    },
    {
     "data": {
      "text/plain": [
       "(6150, 5)"
      ]
     },
     "execution_count": 16,
     "metadata": {},
     "output_type": "execute_result"
    }
   ],
   "source": [
    "X_compas, y_compas = process_data(dataset['compas'], fmt['compas'], transform['compas'])\n",
    "X_compas.shape"
   ]
  },
  {
   "cell_type": "code",
   "execution_count": 17,
   "id": "59f200d0",
   "metadata": {},
   "outputs": [],
   "source": [
    "RES = {\n",
    "    'AVD':{'FPR': {}, 'FNR': {}, 'Both': {}},\n",
    "    'SD': {'FPR': {}, 'FNR': {}, 'Both': {}},\n",
    "    'Vanilla': {'FPR': {}, 'FNR': {}, 'Both': {}}\n",
    "}"
   ]
  },
  {
   "cell_type": "markdown",
   "id": "79eb5ce6",
   "metadata": {},
   "source": [
    "## FPR & FNR Considerations\n",
    "\n",
    "### Only FPR\n",
    "\n",
    "- $d_0 = 1$, $d_1$ = 0. Thus only activating $c_1$."
   ]
  },
  {
   "cell_type": "code",
   "execution_count": 34,
   "id": "b35a9682",
   "metadata": {},
   "outputs": [
    {
     "data": {
      "application/vnd.jupyter.widget-view+json": {
       "model_id": "8522f343caf444218cae519f8451efe3",
       "version_major": 2,
       "version_minor": 0
      },
      "text/plain": [
       "  0%|          | 0/21 [00:00<?, ?it/s]"
      ]
     },
     "metadata": {},
     "output_type": "display_data"
    },
    {
     "data": {
      "application/vnd.jupyter.widget-view+json": {
       "model_id": "d9fddb5bb35f439288fb6feb597bd164",
       "version_major": 2,
       "version_minor": 0
      },
      "text/plain": [
       "  0%|          | 0/21 [00:00<?, ?it/s]"
      ]
     },
     "metadata": {},
     "output_type": "display_data"
    },
    {
     "data": {
      "application/vnd.jupyter.widget-view+json": {
       "model_id": "db79fa07d89b41fcad602a36be0b6b6f",
       "version_major": 2,
       "version_minor": 0
      },
      "text/plain": [
       "  0%|          | 0/21 [00:00<?, ?it/s]"
      ]
     },
     "metadata": {},
     "output_type": "display_data"
    },
    {
     "data": {
      "application/vnd.jupyter.widget-view+json": {
       "model_id": "ddaeadbca3f74f67a07d202de92020ae",
       "version_major": 2,
       "version_minor": 0
      },
      "text/plain": [
       "  0%|          | 0/21 [00:00<?, ?it/s]"
      ]
     },
     "metadata": {},
     "output_type": "display_data"
    },
    {
     "data": {
      "application/vnd.jupyter.widget-view+json": {
       "model_id": "564909e2bbac49ee98918f94537d13f4",
       "version_major": 2,
       "version_minor": 0
      },
      "text/plain": [
       "  0%|          | 0/21 [00:00<?, ?it/s]"
      ]
     },
     "metadata": {},
     "output_type": "display_data"
    },
    {
     "data": {
      "application/vnd.jupyter.widget-view+json": {
       "model_id": "02ba5d7537e1413a9580f9400c94d03b",
       "version_major": 2,
       "version_minor": 0
      },
      "text/plain": [
       "  0%|          | 0/21 [00:00<?, ?it/s]"
      ]
     },
     "metadata": {},
     "output_type": "display_data"
    },
    {
     "data": {
      "application/vnd.jupyter.widget-view+json": {
       "model_id": "dd002d4fd9bf48bcb821c70c911f8723",
       "version_major": 2,
       "version_minor": 0
      },
      "text/plain": [
       "  0%|          | 0/21 [00:00<?, ?it/s]"
      ]
     },
     "metadata": {},
     "output_type": "display_data"
    },
    {
     "data": {
      "application/vnd.jupyter.widget-view+json": {
       "model_id": "1277f92ba3914b0bbf84736244a348ca",
       "version_major": 2,
       "version_minor": 0
      },
      "text/plain": [
       "  0%|          | 0/21 [00:00<?, ?it/s]"
      ]
     },
     "metadata": {},
     "output_type": "display_data"
    },
    {
     "data": {
      "application/vnd.jupyter.widget-view+json": {
       "model_id": "8d55b5c44f024a039ce6a8a9ca63511a",
       "version_major": 2,
       "version_minor": 0
      },
      "text/plain": [
       "  0%|          | 0/21 [00:00<?, ?it/s]"
      ]
     },
     "metadata": {},
     "output_type": "display_data"
    },
    {
     "data": {
      "application/vnd.jupyter.widget-view+json": {
       "model_id": "c90fc45f8408491fb6a3988701f44dd6",
       "version_major": 2,
       "version_minor": 0
      },
      "text/plain": [
       "  0%|          | 0/21 [00:00<?, ?it/s]"
      ]
     },
     "metadata": {},
     "output_type": "display_data"
    }
   ],
   "source": [
    "problem['compas']['fn']=False\n",
    "problem['compas']['fp']=True\n",
    "\n",
    "## Solve the problem\n",
    "compas_results = solve(X_compas, y_compas, problem['compas'])\n"
   ]
  },
  {
   "cell_type": "code",
   "execution_count": 65,
   "id": "76f361d4",
   "metadata": {},
   "outputs": [],
   "source": [
    "best_model_idx = {}\n",
    "best_model_idx['AVD'] = 0\n",
    "best_model_idx['SD'] = 0\n",
    "\n",
    "loss = {\n",
    "    'AVD': [],\n",
    "    'SD': []\n",
    "}\n",
    "\n",
    "for i in range(len(compas_results['AVD']['accuracy'])):\n",
    "    loss['AVD'] += [compas_results['AVD']['accuracy'][i] + compas_results['AVD']['fpr_diff'][i]]\n",
    "\n",
    "for i in range(len(compas_results['SD']['accuracy'])):\n",
    "    loss['SD'] += [compas_results['SD']['accuracy'][i] + compas_results['SD']['fpr_diff'][i]]\n",
    "\n",
    "loss['AVD'] = np.array(loss['AVD'])\n",
    "loss['SD'] = np.array(loss['SD'])\n",
    "\n",
    "best_model_idx['AVD'] = loss['AVD'].argmin()\n",
    "best_model_idx['SD'] = loss['SD'].argmin()"
   ]
  },
  {
   "cell_type": "code",
   "execution_count": 66,
   "id": "fd683cc9",
   "metadata": {},
   "outputs": [],
   "source": [
    "\n",
    "RES['AVD']['FPR'] = {\n",
    "    'accuracy': compas_results['AVD']['accuracy'][best_model_idx['AVD']],\n",
    "    'fpr_diff': compas_results['AVD']['fpr_diff'][best_model_idx['AVD']],\n",
    "    'fnr_diff': compas_results['AVD']['fnr_diff'][best_model_idx['AVD']],\n",
    "}\n",
    "RES['SD']['FPR'] = {\n",
    "    'accuracy': compas_results['SD']['accuracy'][best_model_idx['SD']],\n",
    "    'fpr_diff': compas_results['SD']['fpr_diff'][best_model_idx['SD']],\n",
    "    'fnr_diff': compas_results['SD']['fnr_diff'][best_model_idx['SD']],\n",
    "}\n",
    "\n",
    "RES['Vanilla']['FPR'] = RES['Vanilla']['FNR'] = RES['Vanilla']['Both'] = {\n",
    "    'accuracy': compas_results['Vanilla']['accuracy'],\n",
    "    'fpr_diff': compas_results['Vanilla']['fpr_diff'],\n",
    "    'fnr_diff': compas_results['Vanilla']['fnr_diff'],\n",
    "}\n"
   ]
  },
  {
   "cell_type": "code",
   "execution_count": 67,
   "id": "9bfb4e1f",
   "metadata": {},
   "outputs": [
    {
     "name": "stdout",
     "output_type": "stream",
     "text": [
      "-----------AVD--------------\n",
      "{'accuracy': 0.6476964769647696, 'fpr_diff': 0.004710161824371589, 'fnr_diff': 0.033117786788876336}\n",
      "-----------SD--------------\n",
      "{'accuracy': 0.6601626016260163, 'fpr_diff': 0.04944186066230556, 'fnr_diff': 0.10399021042781398}\n",
      "-----------Vanilla--------------\n",
      "{'accuracy': 0.6655826558265583, 'fpr_diff': 0.20552161544559996, 'fnr_diff': 0.3885056505986516}\n"
     ]
    }
   ],
   "source": [
    "print(\"-----------AVD--------------\")\n",
    "print(RES['AVD']['FPR'])\n",
    "\n",
    "print(\"-----------SD--------------\")\n",
    "print(RES['SD']['FPR'])\n",
    "\n",
    "print(\"-----------Vanilla--------------\")\n",
    "print(RES['Vanilla']['FPR'])"
   ]
  },
  {
   "cell_type": "markdown",
   "id": "3f48758d",
   "metadata": {},
   "source": [
    "### Only FNR "
   ]
  },
  {
   "cell_type": "code",
   "execution_count": 37,
   "id": "4da06521",
   "metadata": {},
   "outputs": [
    {
     "data": {
      "application/vnd.jupyter.widget-view+json": {
       "model_id": "5aef614988214b5d9fc56216358c323a",
       "version_major": 2,
       "version_minor": 0
      },
      "text/plain": [
       "  0%|          | 0/21 [00:00<?, ?it/s]"
      ]
     },
     "metadata": {},
     "output_type": "display_data"
    },
    {
     "data": {
      "application/vnd.jupyter.widget-view+json": {
       "model_id": "4abce8f328474be28e398a253959ed3b",
       "version_major": 2,
       "version_minor": 0
      },
      "text/plain": [
       "  0%|          | 0/21 [00:00<?, ?it/s]"
      ]
     },
     "metadata": {},
     "output_type": "display_data"
    },
    {
     "data": {
      "application/vnd.jupyter.widget-view+json": {
       "model_id": "4afe2ecca55b46ec940781405c3ba258",
       "version_major": 2,
       "version_minor": 0
      },
      "text/plain": [
       "  0%|          | 0/21 [00:00<?, ?it/s]"
      ]
     },
     "metadata": {},
     "output_type": "display_data"
    },
    {
     "data": {
      "application/vnd.jupyter.widget-view+json": {
       "model_id": "18f2ed9cf32345b4abe5a94722b9c877",
       "version_major": 2,
       "version_minor": 0
      },
      "text/plain": [
       "  0%|          | 0/21 [00:00<?, ?it/s]"
      ]
     },
     "metadata": {},
     "output_type": "display_data"
    },
    {
     "data": {
      "application/vnd.jupyter.widget-view+json": {
       "model_id": "bb7e26518adb45638fe57529931597a2",
       "version_major": 2,
       "version_minor": 0
      },
      "text/plain": [
       "  0%|          | 0/21 [00:00<?, ?it/s]"
      ]
     },
     "metadata": {},
     "output_type": "display_data"
    },
    {
     "data": {
      "application/vnd.jupyter.widget-view+json": {
       "model_id": "972300eea04a48a29d07ba3beda68b38",
       "version_major": 2,
       "version_minor": 0
      },
      "text/plain": [
       "  0%|          | 0/21 [00:00<?, ?it/s]"
      ]
     },
     "metadata": {},
     "output_type": "display_data"
    },
    {
     "data": {
      "application/vnd.jupyter.widget-view+json": {
       "model_id": "34dfbaee87534a8aaf563a3882247933",
       "version_major": 2,
       "version_minor": 0
      },
      "text/plain": [
       "  0%|          | 0/21 [00:00<?, ?it/s]"
      ]
     },
     "metadata": {},
     "output_type": "display_data"
    },
    {
     "data": {
      "application/vnd.jupyter.widget-view+json": {
       "model_id": "cc1f8f45c7fa4e3a95c1ee887e41e2f5",
       "version_major": 2,
       "version_minor": 0
      },
      "text/plain": [
       "  0%|          | 0/21 [00:00<?, ?it/s]"
      ]
     },
     "metadata": {},
     "output_type": "display_data"
    },
    {
     "data": {
      "application/vnd.jupyter.widget-view+json": {
       "model_id": "4069e46c73df43c88acade2af8d29340",
       "version_major": 2,
       "version_minor": 0
      },
      "text/plain": [
       "  0%|          | 0/21 [00:00<?, ?it/s]"
      ]
     },
     "metadata": {},
     "output_type": "display_data"
    },
    {
     "data": {
      "application/vnd.jupyter.widget-view+json": {
       "model_id": "2285684a39b447d99427a983e7ca92f9",
       "version_major": 2,
       "version_minor": 0
      },
      "text/plain": [
       "  0%|          | 0/21 [00:00<?, ?it/s]"
      ]
     },
     "metadata": {},
     "output_type": "display_data"
    }
   ],
   "source": [
    "problem['compas']['fn']=True\n",
    "problem['compas']['fp']=False\n",
    "\n",
    "\n",
    "## Solve the problem\n",
    "compas_results_fnr = solve(X_compas, y_compas, problem['compas'])\n",
    "\n"
   ]
  },
  {
   "cell_type": "code",
   "execution_count": 68,
   "id": "f6d6b9b9",
   "metadata": {},
   "outputs": [],
   "source": [
    "best_model_idx = {}\n",
    "best_model_idx['AVD'] = 0\n",
    "best_model_idx['SD'] = 0\n",
    "\n",
    "loss_fnr = {\n",
    "    'AVD': [],\n",
    "    'SD': []\n",
    "}\n",
    "\n",
    "for i in range(len(compas_results_fnr['AVD']['accuracy'])):\n",
    "    loss_fnr['AVD'] += [compas_results_fnr['AVD']['accuracy'][i] + compas_results_fnr['AVD']['fnr_diff'][i]]\n",
    "\n",
    "for i in range(len(compas_results_fnr['AVD']['accuracy'])):\n",
    "    loss_fnr['SD'] += [compas_results_fnr['SD']['accuracy'][i] + compas_results_fnr['SD']['fnr_diff'][i]]\n",
    "\n",
    "loss_fnr['AVD'] = np.array(loss_fnr['AVD'])\n",
    "loss_fnr['SD'] = np.array(loss_fnr['SD'])\n",
    "\n",
    "best_model_idx['AVD'] = loss_fnr['AVD'].argmin()\n",
    "best_model_idx['SD'] = loss_fnr['SD'].argmin()"
   ]
  },
  {
   "cell_type": "code",
   "execution_count": 69,
   "id": "98fe4e14",
   "metadata": {},
   "outputs": [],
   "source": [
    "\n",
    "RES['AVD']['FNR'] = {\n",
    "    'accuracy': compas_results_fnr['AVD']['accuracy'][best_model_idx['AVD']],\n",
    "    'fpr_diff': compas_results_fnr['AVD']['fpr_diff'][best_model_idx['AVD']],\n",
    "    'fnr_diff': compas_results_fnr['AVD']['fnr_diff'][best_model_idx['AVD']],\n",
    "}\n",
    "RES['SD']['FNR'] = {\n",
    "    'accuracy': compas_results_fnr['SD']['accuracy'][best_model_idx['SD']],\n",
    "    'fpr_diff': compas_results_fnr['SD']['fpr_diff'][best_model_idx['SD']],\n",
    "    'fnr_diff': compas_results_fnr['SD']['fnr_diff'][best_model_idx['SD']],\n",
    "}\n"
   ]
  },
  {
   "cell_type": "code",
   "execution_count": 70,
   "id": "5b3a8712",
   "metadata": {},
   "outputs": [
    {
     "name": "stdout",
     "output_type": "stream",
     "text": [
      "-----------AVD--------------\n",
      "{'accuracy': 0.6368563685636857, 'fpr_diff': 0.014414536636240677, 'fnr_diff': 0.00878782062048622}\n",
      "-----------SD--------------\n",
      "{'accuracy': 0.6536585365853659, 'fpr_diff': 0.04148842809477982, 'fnr_diff': 0.08536482952227853}\n"
     ]
    }
   ],
   "source": [
    "print(\"-----------AVD--------------\")\n",
    "print(RES['AVD']['FNR'])\n",
    "\n",
    "print(\"-----------SD--------------\")\n",
    "print(RES['SD']['FNR'])"
   ]
  },
  {
   "cell_type": "markdown",
   "id": "ed430f20",
   "metadata": {},
   "source": [
    "### Both FPR and FNR\n",
    "\n",
    "- $d_0 = 1$, $d_1 = 1$. Thus, activating $c_1 = c_2 = c$."
   ]
  },
  {
   "cell_type": "code",
   "execution_count": 43,
   "id": "0288f1bd",
   "metadata": {},
   "outputs": [
    {
     "data": {
      "application/vnd.jupyter.widget-view+json": {
       "model_id": "5ce2d4b2a7c54f2fbb6fd26ddf8401ad",
       "version_major": 2,
       "version_minor": 0
      },
      "text/plain": [
       "  0%|          | 0/21 [00:00<?, ?it/s]"
      ]
     },
     "metadata": {},
     "output_type": "display_data"
    },
    {
     "data": {
      "application/vnd.jupyter.widget-view+json": {
       "model_id": "a4fc87437c3f4c2599637d0355919770",
       "version_major": 2,
       "version_minor": 0
      },
      "text/plain": [
       "  0%|          | 0/21 [00:00<?, ?it/s]"
      ]
     },
     "metadata": {},
     "output_type": "display_data"
    },
    {
     "data": {
      "application/vnd.jupyter.widget-view+json": {
       "model_id": "2780c36925104704907c905c1122384c",
       "version_major": 2,
       "version_minor": 0
      },
      "text/plain": [
       "  0%|          | 0/21 [00:00<?, ?it/s]"
      ]
     },
     "metadata": {},
     "output_type": "display_data"
    },
    {
     "data": {
      "application/vnd.jupyter.widget-view+json": {
       "model_id": "da9d892d84e74a60a95e8b4aed79d34d",
       "version_major": 2,
       "version_minor": 0
      },
      "text/plain": [
       "  0%|          | 0/21 [00:00<?, ?it/s]"
      ]
     },
     "metadata": {},
     "output_type": "display_data"
    },
    {
     "data": {
      "application/vnd.jupyter.widget-view+json": {
       "model_id": "f40767267e624d8ca657e6068adbb851",
       "version_major": 2,
       "version_minor": 0
      },
      "text/plain": [
       "  0%|          | 0/21 [00:00<?, ?it/s]"
      ]
     },
     "metadata": {},
     "output_type": "display_data"
    },
    {
     "data": {
      "application/vnd.jupyter.widget-view+json": {
       "model_id": "445ac41bbfa341468a139151d10388fc",
       "version_major": 2,
       "version_minor": 0
      },
      "text/plain": [
       "  0%|          | 0/21 [00:00<?, ?it/s]"
      ]
     },
     "metadata": {},
     "output_type": "display_data"
    },
    {
     "data": {
      "application/vnd.jupyter.widget-view+json": {
       "model_id": "ad1b5d4720a04fabb8dbb1da63ada919",
       "version_major": 2,
       "version_minor": 0
      },
      "text/plain": [
       "  0%|          | 0/21 [00:00<?, ?it/s]"
      ]
     },
     "metadata": {},
     "output_type": "display_data"
    },
    {
     "data": {
      "application/vnd.jupyter.widget-view+json": {
       "model_id": "c3438fc09afc496696862c078b4ad13b",
       "version_major": 2,
       "version_minor": 0
      },
      "text/plain": [
       "  0%|          | 0/21 [00:00<?, ?it/s]"
      ]
     },
     "metadata": {},
     "output_type": "display_data"
    },
    {
     "data": {
      "application/vnd.jupyter.widget-view+json": {
       "model_id": "8e0c50893b1145b4855435a58825149e",
       "version_major": 2,
       "version_minor": 0
      },
      "text/plain": [
       "  0%|          | 0/21 [00:00<?, ?it/s]"
      ]
     },
     "metadata": {},
     "output_type": "display_data"
    },
    {
     "data": {
      "application/vnd.jupyter.widget-view+json": {
       "model_id": "2fd7674078e94de3813d5ff54fc832fe",
       "version_major": 2,
       "version_minor": 0
      },
      "text/plain": [
       "  0%|          | 0/21 [00:00<?, ?it/s]"
      ]
     },
     "metadata": {},
     "output_type": "display_data"
    }
   ],
   "source": [
    "problem['compas']['fn']=True\n",
    "problem['compas']['fp']=True\n",
    "\n",
    "compas_results_both = solve(X_compas, y_compas, problem['compas'])\n",
    " "
   ]
  },
  {
   "cell_type": "code",
   "execution_count": 71,
   "id": "6e17cb71",
   "metadata": {},
   "outputs": [],
   "source": [
    "best_model_idx = {}\n",
    "best_model_idx['AVD'] = 0\n",
    "best_model_idx['SD'] = 0\n",
    "\n",
    "loss_both = {\n",
    "    'AVD': [],\n",
    "    'SD': []\n",
    "}\n",
    "\n",
    "for i in range(len(compas_results_both['AVD']['accuracy'])):\n",
    "    loss_both['AVD'] += [compas_results_both['AVD']['accuracy'][i] +\n",
    "                         compas_results_both['AVD']['fpr_diff'][i] + compas_results_both['AVD']['fnr_diff'][i]]\n",
    "\n",
    "for i in range(len(compas_results_both['SD']['accuracy'])):\n",
    "    loss_both['SD'] += [compas_results_both['SD']['accuracy'][i] +\n",
    "                        compas_results_both['SD']['fpr_diff'][i] + compas_results_both['SD']['fnr_diff'][i]]\n",
    "\n",
    "loss_both['AVD'] = np.array(loss_both['AVD'])\n",
    "loss_both['SD'] = np.array(loss_both['SD'])\n",
    "\n",
    "best_model_idx['AVD'] = loss_both['AVD'].argmin()\n",
    "best_model_idx['SD'] = loss_both['SD'].argmin()\n"
   ]
  },
  {
   "cell_type": "code",
   "execution_count": 72,
   "id": "54d7de99",
   "metadata": {},
   "outputs": [],
   "source": [
    "\n",
    "RES['AVD']['Both'] = {\n",
    "    'accuracy': compas_results_both['AVD']['accuracy'][best_model_idx['AVD']],\n",
    "    'fpr_diff': compas_results_both['AVD']['fpr_diff'][best_model_idx['AVD']],\n",
    "    'fnr_diff': compas_results_both['AVD']['fnr_diff'][best_model_idx['AVD']],\n",
    "}\n",
    "RES['SD']['Both'] = {\n",
    "    'accuracy': compas_results_both['SD']['accuracy'][best_model_idx['SD']],\n",
    "    'fpr_diff': compas_results_both['SD']['fpr_diff'][best_model_idx['SD']],\n",
    "    'fnr_diff': compas_results_both['SD']['fnr_diff'][best_model_idx['SD']],\n",
    "}\n"
   ]
  },
  {
   "cell_type": "code",
   "execution_count": 73,
   "id": "7d1b1e28",
   "metadata": {},
   "outputs": [
    {
     "name": "stdout",
     "output_type": "stream",
     "text": [
      "-----------AVD--------------\n",
      "{'accuracy': 0.6482384823848238, 'fpr_diff': 0.004159017776515339, 'fnr_diff': 0.0001619598339611672}\n",
      "-----------SD--------------\n",
      "{'accuracy': 0.6531165311653117, 'fpr_diff': 0.023750068893005988, 'fnr_diff': 0.05549223792499458}\n"
     ]
    }
   ],
   "source": [
    "print(\"-----------AVD--------------\")\n",
    "print(RES['AVD']['Both'])\n",
    "\n",
    "print(\"-----------SD--------------\")\n",
    "print(RES['SD']['Both'])"
   ]
  },
  {
   "cell_type": "markdown",
   "id": "a1491343",
   "metadata": {},
   "source": [
    "Summary of these results are shown in the table below.\n",
    "\n",
    "\n",
    "| **Accuracy** | FPR Consideration | FNR Consideration | Both Consideration |\n",
    "| -- | -- | -- | -- |\n",
    "| AVD | 0.647 | 0.637 | 0.648 |\n",
    "| SD |  0.660 |  0.654 |0.653 |\n",
    "| Vanilla Regularized Logistic Regression | 0.666 |0.666 |0.666 |\n",
    "| | | | |\n",
    "\n",
    "| **$D_{FPR}$** | FPR Consideration | FNR Consideration | Both Consideration |\n",
    "| -- | -- | -- | -- |\n",
    "| AVD | 0.004 | 0.014 | 0.004 |\n",
    "| SD |  0.049|  0.041 | 0.023 |\n",
    "| Vanilla Regularized Logistic Regression | 0.2055 |0.2055 |0.2055 |\n",
    "|  |  |  |  |\n",
    "\n",
    "| **$D_{FNR}$** | FPR Consideration | FNR Consideration | Both Consideration |\n",
    "| -- | -- | -- | -- |\n",
    "| AVD | 0.033 | 0.008 | 0.000 |\n",
    "| SD |  0.103 |  0.085 | 0.055|\n",
    "| Vanilla Regularized Logistic Regression | 0.388 |0.388 |0.388 |\n"
   ]
  },
  {
   "cell_type": "markdown",
   "id": "1e23be51",
   "metadata": {},
   "source": [
    "---\n",
    "\n",
    "## Part 2"
   ]
  },
  {
   "cell_type": "markdown",
   "id": "5ab42f73",
   "metadata": {},
   "source": [
    "## Data Preprocessing\n",
    "\n",
    "### Adult, Default and Admissions"
   ]
  },
  {
   "cell_type": "code",
   "execution_count": 15,
   "id": "122d02f2",
   "metadata": {},
   "outputs": [],
   "source": [
    "dataset['default'] = pd.read_csv('dataset/loan/default_of_credit_card_clients.csv')\n",
    "dataset['admission'] = pd.read_csv('dataset/admission/lsac.csv')\n",
    "dataset['adult'] = pd.read_csv('dataset/adult/adult.csv')"
   ]
  },
  {
   "cell_type": "markdown",
   "id": "df964bcf",
   "metadata": {},
   "source": [
    "### Mapping input space to Reals \n",
    "\n",
    "#### Adult, Default and Admissions Dataset"
   ]
  },
  {
   "cell_type": "code",
   "execution_count": 16,
   "id": "8ebf36cc",
   "metadata": {},
   "outputs": [],
   "source": [
    "transform['adult'] = {\n",
    "    'class': {\n",
    "        \"<=50K\": 0,\n",
    "        \">50K\": 1\n",
    "    },\n",
    "    'workclass': {\n",
    "        \"Federal-gov\": 0,\n",
    "        \"Local-gov\": 1,\n",
    "        \"Never-worked\": 2,\n",
    "        \"Private\": 3,\n",
    "        \"Self-emp-inc\": 4,\n",
    "        \"Self-emp-not-inc\": 5,\n",
    "        \"State-gov\": 6,\n",
    "        \"Without-pay\": 7\n",
    "    },\n",
    "    'marital-status': {\n",
    "        \"Divorced\": 0,\n",
    "        \"Married-AF-spouse\": 1,\n",
    "        \"Married-civ-spouse\": 2,\n",
    "        \"Married-spouse-absent\": 3,\n",
    "        \"Never-married\": 4,\n",
    "        \"Separated\": 5,\n",
    "        \"Widowed\": 6\n",
    "    },\n",
    "    'occupation': {\n",
    "        \"Adm-clerical\": 0,\n",
    "        \"Armed-Forces\": 1,\n",
    "        \"Craft-repair\": 2,\n",
    "        \"Exec-managerial\": 3,\n",
    "        \"Farming-fishing\": 4,\n",
    "        \"Handlers-cleaners\": 5,\n",
    "        \"Machine-op-inspct\": 6,\n",
    "        \"Other-service\": 7,\n",
    "        \"Priv-house-serv\": 8,\n",
    "        \"Prof-specialty\": 9,\n",
    "        \"Protective-serv\": 10,\n",
    "        \"Sales\": 11,\n",
    "        \"Tech-support\": 12,\n",
    "        \"Transport-moving\": 13\n",
    "    },\n",
    "    'relationship': {\"Husband\": 0,\n",
    "                     \"Not-in-family\": 1,\n",
    "                     \"Other-relative\": 2,\n",
    "                     \"Own-child\": 3,\n",
    "                     \"Unmarried\": 4,\n",
    "                     \"Wife\": 5\n",
    "                     },\n",
    "    'race': {\"Amer-Indian-Eskimo\": 0,\n",
    "             \"Asian-Pac-Islander\": 1,\n",
    "             \"Black\": 2,\n",
    "             \"Other\": 3,\n",
    "             \"White\": 4\n",
    "             },\n",
    "    'sex': {\n",
    "        \"Female\": 0,\n",
    "        \"Male\": 1\n",
    "    },\n",
    "    'native-country': {\n",
    "        \"Cambodia\": 0,\n",
    "        \"Canada\": 1,\n",
    "        \"China\": 2,\n",
    "        \"Columbia\": 3,\n",
    "        \"Cuba\": 4,\n",
    "        \"Dominican-Republic\": 5,\n",
    "        \"Ecuador\": 6,\n",
    "        \"El-Salvador\": 7,\n",
    "        \"England\": 8,\n",
    "        \"France\": 9,\n",
    "        \"Germany\": 10,\n",
    "        \"Greece\": 11,\n",
    "        \"Guatemala\": 12,\n",
    "        \"Haiti\": 13,\n",
    "        \"Holand-Netherlands\": 14,\n",
    "        \"Honduras\": 15,\n",
    "        \"Hong\": 16,\n",
    "        \"Hungary\": 17,\n",
    "        \"India\": 18,\n",
    "        \"Iran\": 19,\n",
    "        \"Ireland\": 20,\n",
    "        \"Italy\": 21,\n",
    "        \"Jamaica\": 22,\n",
    "        \"Japan\": 23,\n",
    "        \"Laos\": 24,\n",
    "        \"Mexico\": 25,\n",
    "        \"Nicaragua\": 26,\n",
    "        \"Outlying-US(Guam-USVI-etc)\": 27,\n",
    "        \"Peru\": 28,\n",
    "        \"Philippines\": 29,\n",
    "        \"Poland\": 30,\n",
    "        \"Portugal\": 31,\n",
    "        \"Puerto-Rico\": 32,\n",
    "        \"Scotland\": 33,\n",
    "        \"South\": 34,\n",
    "        \"Taiwan\": 35,\n",
    "        \"Thailand\": 36,\n",
    "        \"Trinadad&Tobago\": 37,\n",
    "        \"United-States\": 38,\n",
    "        \"Vietnam\": 39,\n",
    "        \"Yugoslavia\": 40}\n",
    "}\n",
    "\n",
    "transform['default'] = {\n",
    "    'SEX': {\n",
    "        \"1\": 0,\n",
    "        \"2\": 1\n",
    "    }\n",
    "}\n",
    "\n",
    "transform['admission'] = {\n",
    "    'sex': {\n",
    "        \"1\": 0,\n",
    "        \"2\": 1\n",
    "    },\n",
    "    'race': {\n",
    "        \"1\": 0,\n",
    "        \"2\": 0,\n",
    "        \"3\": 0,\n",
    "        \"4\": 0,\n",
    "        \"5\": 0,\n",
    "        \"6\": 0,\n",
    "        \"7\": 1,\n",
    "        \"8\": 0\n",
    "    },\n",
    "    'grad': {\n",
    "        \"N\": 0,\n",
    "        \"O\": 1,\n",
    "        \"X\": 2,\n",
    "        \"Y\": 3\n",
    "\n",
    "    },\n",
    "    'indxgrp2': {\n",
    "        \"a under 400\": 0,\n",
    "        \"b 400-460\": 1,\n",
    "        \"c 460-520\": 2,\n",
    "        \"d 520-580\": 3,\n",
    "        \"e 580-640\": 4,\n",
    "        \"f 640-700\": 5,\n",
    "        \"g 700-760\": 6,\n",
    "        \"h 760-820\": 7,\n",
    "        \"i 820+\": 8\n",
    "    },\n",
    "    'pass_bar': {\n",
    "        \"0\": 0,\n",
    "        \"1\": 1,\n",
    "        \"\": 0\n",
    "    }\n",
    "}\n"
   ]
  },
  {
   "cell_type": "markdown",
   "id": "c9b23143",
   "metadata": {},
   "source": [
    "#### Input variables extraction\n"
   ]
  },
  {
   "cell_type": "code",
   "execution_count": 17,
   "id": "8be16573",
   "metadata": {},
   "outputs": [],
   "source": [
    "# fmt['compas'] = {\n",
    "#     # 5 features where 1st feature is the protected attribute\n",
    "#     'input_columns': ['race','age','sex','priors_count','c_charge_degree'], \n",
    "#     'label_column': 'two_year_recid',\n",
    "# }\n",
    "\n",
    "fmt['adult'] = {\n",
    "    'input_columns': ['sex',\"age\",\"workclass\",\"education-num\",\"marital-status\",\"occupation\",\"relationship\",\"race\",\"hours-per-week\",\"native-country\"],\n",
    "    'label_column': 'class'\n",
    "}\n",
    "\n",
    "fmt['default'] = {\n",
    "    'input_columns': [\"LIMIT_BAL\",\"EDUCATION\",\"MARRIAGE\",\"AGE\",\"PAY_0\",\"PAY_2\",\"PAY_3\",\"PAY_4\",\"PAY_5\",\"PAY_6\",\"BILL_AMT1\",\"BILL_AMT2\",\"BILL_AMT3\",\"BILL_AMT4\",\"BILL_AMT5\",\"BILL_AMT6\",\"PAY_AMT1\",\"PAY_AMT2\",\"PAY_AMT3\",\"PAY_AMT4\",\"PAY_AMT5\",\"PAY_AMT6\"],\n",
    "    'label_column': 'SEX'\n",
    "}\n",
    "fmt['admission'] = {\n",
    "    'input_columns': [\"decile1b\",\"decile3\",\"decile1\",\"sex\",\"cluster\",\"lsat\",\"ugpa\",\"zfygpa\",\"dob_yr\",\"grad\",\"zgpa\",\"fulltime\",\"fam_inc\",\"parttime\",\"tier\",\"indxgrp2\"],\n",
    "    'label_column': \"race\"\n",
    "}"
   ]
  },
  {
   "cell_type": "markdown",
   "id": "b46ccca7",
   "metadata": {},
   "source": [
    "#### Set default problem parameters"
   ]
  },
  {
   "cell_type": "code",
   "execution_count": 18,
   "id": "0d2325d9",
   "metadata": {},
   "outputs": [],
   "source": [
    "problem['adult'] = {\n",
    "    'c': (0, 400, 21),\n",
    "    'gamma': (0, 5, 6),\n",
    "    'validation_size': 0.5,\n",
    "    'folds': 5,\n",
    "    'fp': True,\n",
    "    'fn': True,\n",
    "    'test_size': 0.7,\n",
    "    'nruns': 5\n",
    "}\n",
    "\n",
    "problem['default'] = {\n",
    "    'c': (0, 50, 11),  # 21\n",
    "    'gamma': (0, 100, 6),\n",
    "    'validation_size': 0.5,\n",
    "    'folds': 3,\n",
    "    'fp': True,\n",
    "    'fn': True,\n",
    "    'test_size': 0.7,\n",
    "    'nruns': 5\n",
    "}\n",
    "\n",
    "problem['admission'] = {\n",
    "    'c': (0, 400, 21),  # 21\n",
    "    'gamma': (0, 5, 6),\n",
    "    'validation_size': 0.5,\n",
    "    'folds': 3,\n",
    "    'fp': True,\n",
    "    'fn': True,\n",
    "    'test_size': 0.7,\n",
    "    'nruns': 5\n",
    "}\n"
   ]
  },
  {
   "cell_type": "code",
   "execution_count": 19,
   "id": "4d8c0faa",
   "metadata": {},
   "outputs": [
    {
     "data": {
      "text/plain": [
       "((30162, 10), (30000, 22), (22329, 16))"
      ]
     },
     "execution_count": 19,
     "metadata": {},
     "output_type": "execute_result"
    }
   ],
   "source": [
    "X_adult, y_adult = process_data(\n",
    "    dataset['adult'], fmt['adult'], transform['adult'])\n",
    "X_default, y_default = process_data(\n",
    "    dataset['default'], fmt['default'], transform['default'])\n",
    "X_admission, y_admission = process_data(\n",
    "    dataset['admission'], fmt['admission'], transform['admission'])\n",
    "\n",
    "X_adult.shape, X_default.shape, X_admission.shape\n"
   ]
  },
  {
   "cell_type": "markdown",
   "id": "faf2d233",
   "metadata": {},
   "source": [
    "### Training the data"
   ]
  },
  {
   "cell_type": "code",
   "execution_count": 20,
   "id": "5eb9f9dd",
   "metadata": {},
   "outputs": [],
   "source": [
    "RESULTS = {\n",
    "    'adult': {'AVD': {'accuracy': 0, 'fpr_diff': 0, 'fnr_diff': 0}, 'SD': {'accuracy': 0, 'fpr_diff': 0, 'fnr_diff': 0}, 'Vanilla': {'accuracy': 0, 'fpr_diff': 0, 'fnr_diff': 0}},\n",
    "    'default': {'AVD': {'accuracy': 0, 'fpr_diff': 0, 'fnr_diff': 0}, 'SD': {'accuracy': 0, 'fpr_diff': 0, 'fnr_diff': 0}, 'Vanilla': {'accuracy': 0, 'fpr_diff': 0, 'fnr_diff': 0}},\n",
    "    'admission': {'AVD': {'accuracy': 0, 'fpr_diff': 0, 'fnr_diff': 0}, 'SD': {'accuracy': 0, 'fpr_diff': 0, 'fnr_diff': 0}, 'Vanilla': {'accuracy': 0, 'fpr_diff': 0, 'fnr_diff': 0}},\n",
    "}\n"
   ]
  },
  {
   "cell_type": "code",
   "execution_count": 21,
   "id": "b35a9682",
   "metadata": {},
   "outputs": [
    {
     "data": {
      "application/vnd.jupyter.widget-view+json": {
       "model_id": "3078e98a5e16407a8138408c038a64f1",
       "version_major": 2,
       "version_minor": 0
      },
      "text/plain": [
       "  0%|          | 0/21 [00:00<?, ?it/s]"
      ]
     },
     "metadata": {},
     "output_type": "display_data"
    },
    {
     "data": {
      "application/vnd.jupyter.widget-view+json": {
       "model_id": "c81b630e0fe24a189a2f72178b8911d8",
       "version_major": 2,
       "version_minor": 0
      },
      "text/plain": [
       "  0%|          | 0/21 [00:00<?, ?it/s]"
      ]
     },
     "metadata": {},
     "output_type": "display_data"
    }
   ],
   "source": [
    "adult_results = solve(X_adult, y_adult, problem['adult'])\n",
    "\n",
    "best_model_idx = {}\n",
    "best_model_idx['AVD'] = 0\n",
    "best_model_idx['SD'] = 0\n",
    "\n",
    "loss = {\n",
    "    'AVD': [],\n",
    "    'SD': []\n",
    "}\n",
    "\n",
    "for i in range(len(adult_results['AVD']['accuracy'])):\n",
    "    loss['AVD'] += [adult_results['AVD']['accuracy'][i] + adult_results['AVD']['fpr_diff'][i] + adult_results['AVD']['fnr_diff'][i]]\n",
    "\n",
    "for i in range(len(adult_results['SD']['accuracy'])):\n",
    "    loss['SD'] += [adult_results['SD']['accuracy'][i] + adult_results['SD']['fpr_diff'][i] + adult_results['SD']['fnr_diff'][i]]\n",
    "\n",
    "loss['AVD'] = np.array(loss['AVD'])\n",
    "loss['SD'] = np.array(loss['SD'])\n",
    "\n",
    "best_model_idx['AVD'] = loss['AVD'].argmin()\n",
    "best_model_idx['SD'] = loss['SD'].argmin()"
   ]
  },
  {
   "cell_type": "code",
   "execution_count": 125,
   "id": "fd683cc9",
   "metadata": {},
   "outputs": [],
   "source": [
    "\n",
    "RESULTS['adult']['AVD'] = {\n",
    "    'accuracy': adult_results['AVD']['accuracy'][best_model_idx['AVD']],\n",
    "    'fpr_diff': adult_results['AVD']['fpr_diff'][best_model_idx['AVD']],\n",
    "    'fnr_diff': adult_results['AVD']['fnr_diff'][best_model_idx['AVD']],\n",
    "}\n",
    "RESULTS['adult']['SD'] = {\n",
    "    'accuracy': adult_results['SD']['accuracy'][best_model_idx['SD']],\n",
    "    'fpr_diff': adult_results['SD']['fpr_diff'][best_model_idx['SD']],\n",
    "    'fnr_diff': adult_results['SD']['fnr_diff'][best_model_idx['SD']],\n",
    "}\n",
    "\n",
    "RESULTS['adult']['Vanilla'] = {\n",
    "    'accuracy': adult_results['Vanilla']['accuracy'],\n",
    "    'fpr_diff': adult_results['Vanilla']['fpr_diff'],\n",
    "    'fnr_diff': adult_results['Vanilla']['fnr_diff'],\n",
    "}\n",
    "\n",
    "print(\"-----------ADULT-------------------\")\n",
    "print(\"-----------AVD---------------------\")\n",
    "print(RESULTS['adult']['AVD'])\n",
    "\n",
    "print(\"-----------SD----------------------\")\n",
    "print(RESULTS['adult']['SD'])\n",
    "\n",
    "print(\"-----------Vanilla----------------\")\n",
    "print(RESULTS['adult']['Vanilla'])"
   ]
  },
  {
   "cell_type": "code",
   "execution_count": 29,
   "id": "35d3b437",
   "metadata": {},
   "outputs": [
    {
     "data": {
      "text/plain": [
       "array([1., 1., 1., ..., 0., 0., 0.])"
      ]
     },
     "execution_count": 29,
     "metadata": {},
     "output_type": "execute_result"
    }
   ],
   "source": [
    "y_default = y_default - 1"
   ]
  },
  {
   "cell_type": "code",
   "execution_count": 30,
   "id": "b35a9682",
   "metadata": {},
   "outputs": [
    {
     "data": {
      "application/vnd.jupyter.widget-view+json": {
       "model_id": "e37666df592b4a0084f1ff1d5785f12e",
       "version_major": 2,
       "version_minor": 0
      },
      "text/plain": [
       "  0%|          | 0/11 [00:00<?, ?it/s]"
      ]
     },
     "metadata": {},
     "output_type": "display_data"
    },
    {
     "data": {
      "application/vnd.jupyter.widget-view+json": {
       "model_id": "1ee18e1b512c4f3f94ba1f859d42baed",
       "version_major": 2,
       "version_minor": 0
      },
      "text/plain": [
       "  0%|          | 0/11 [00:00<?, ?it/s]"
      ]
     },
     "metadata": {},
     "output_type": "display_data"
    },
    {
     "data": {
      "application/vnd.jupyter.widget-view+json": {
       "model_id": "d8b1118aa16a42c49d6f6f5cf7c8ba31",
       "version_major": 2,
       "version_minor": 0
      },
      "text/plain": [
       "  0%|          | 0/11 [00:00<?, ?it/s]"
      ]
     },
     "metadata": {},
     "output_type": "display_data"
    },
    {
     "data": {
      "application/vnd.jupyter.widget-view+json": {
       "model_id": "5f8dde8228a64bb984be770cdc050088",
       "version_major": 2,
       "version_minor": 0
      },
      "text/plain": [
       "  0%|          | 0/11 [00:00<?, ?it/s]"
      ]
     },
     "metadata": {},
     "output_type": "display_data"
    },
    {
     "data": {
      "application/vnd.jupyter.widget-view+json": {
       "model_id": "3d402027c73f4a528691cb088406728c",
       "version_major": 2,
       "version_minor": 0
      },
      "text/plain": [
       "  0%|          | 0/11 [00:00<?, ?it/s]"
      ]
     },
     "metadata": {},
     "output_type": "display_data"
    },
    {
     "data": {
      "application/vnd.jupyter.widget-view+json": {
       "model_id": "d80048e80c6444c1af562ded3d2a77dc",
       "version_major": 2,
       "version_minor": 0
      },
      "text/plain": [
       "  0%|          | 0/11 [00:00<?, ?it/s]"
      ]
     },
     "metadata": {},
     "output_type": "display_data"
    },
    {
     "data": {
      "application/vnd.jupyter.widget-view+json": {
       "model_id": "cb3487cd454143088e808c43d26fe674",
       "version_major": 2,
       "version_minor": 0
      },
      "text/plain": [
       "  0%|          | 0/11 [00:00<?, ?it/s]"
      ]
     },
     "metadata": {},
     "output_type": "display_data"
    },
    {
     "data": {
      "application/vnd.jupyter.widget-view+json": {
       "model_id": "b2057006459b429da52b30ba146546a7",
       "version_major": 2,
       "version_minor": 0
      },
      "text/plain": [
       "  0%|          | 0/11 [00:00<?, ?it/s]"
      ]
     },
     "metadata": {},
     "output_type": "display_data"
    },
    {
     "data": {
      "application/vnd.jupyter.widget-view+json": {
       "model_id": "819faf0becde460ea4642d9e790cad76",
       "version_major": 2,
       "version_minor": 0
      },
      "text/plain": [
       "  0%|          | 0/11 [00:00<?, ?it/s]"
      ]
     },
     "metadata": {},
     "output_type": "display_data"
    },
    {
     "data": {
      "application/vnd.jupyter.widget-view+json": {
       "model_id": "9c342fdfa77b4660b744e860e3cf1e6f",
       "version_major": 2,
       "version_minor": 0
      },
      "text/plain": [
       "  0%|          | 0/11 [00:00<?, ?it/s]"
      ]
     },
     "metadata": {},
     "output_type": "display_data"
    }
   ],
   "source": [
    "default_results = solve(X_default, y_default, problem['default'])\n"
   ]
  },
  {
   "cell_type": "code",
   "execution_count": 31,
   "id": "7e963d10",
   "metadata": {},
   "outputs": [],
   "source": [
    "\n",
    "best_model_idx = {}\n",
    "best_model_idx['AVD'] = 0\n",
    "best_model_idx['SD'] = 0\n",
    "\n",
    "loss = {\n",
    "    'AVD': [],\n",
    "    'SD': []\n",
    "}\n",
    "\n",
    "for i in range(len(default_results['AVD']['accuracy'])):\n",
    "    loss['AVD'] += [default_results['AVD']['accuracy'][i] + default_results['AVD']['fpr_diff'][i] + default_results['AVD']['fnr_diff'][i]]\n",
    "\n",
    "for i in range(len(default_results['SD']['accuracy'])):\n",
    "    loss['SD'] += [default_results['SD']['accuracy'][i] + default_results['SD']['fpr_diff'][i] + default_results['SD']['fnr_diff'][i]]\n",
    "\n",
    "loss['AVD'] = np.array(loss['AVD'])\n",
    "loss['SD'] = np.array(loss['SD'])\n",
    "\n",
    "best_model_idx['AVD'] = loss['AVD'].argmin()\n",
    "best_model_idx['SD'] = loss['SD'].argmin()\n"
   ]
  },
  {
   "cell_type": "code",
   "execution_count": 37,
   "id": "fd683cc9",
   "metadata": {},
   "outputs": [
    {
     "name": "stdout",
     "output_type": "stream",
     "text": [
      "-----------DEFAULT-------------------\n",
      "-----------AVD--------------\n",
      "{'accuracy': 0.7904571285714285, 'fpr_diff': 0.0011285414579739, 'fnr_diff': 0.0015303938391182}\n",
      "-----------SD--------------\n",
      "{'accuracy': 0.7795714285714285, 'fpr_diff': 0.0012057392647593, 'fnr_diff': 0.0019937463829463}\n",
      "-----------Vanilla--------------\n",
      "{'accuracy': 0.8046666666666667, 'fpr_diff': 0.0143529779333333, 'fnr_diff': 0.055978465732911}\n"
     ]
    }
   ],
   "source": [
    "RESULTS['default']['AVD'] = {\n",
    "    'accuracy': default_results['AVD']['accuracy'][best_model_idx['AVD']],\n",
    "    'fpr_diff': default_results['AVD']['fpr_diff'][best_model_idx['AVD']],\n",
    "    'fnr_diff': default_results['AVD']['fnr_diff'][best_model_idx['AVD']],\n",
    "}\n",
    "RESULTS['default']['SD'] = {\n",
    "    'accuracy': default_results['SD']['accuracy'][best_model_idx['SD']],\n",
    "    'fpr_diff': default_results['SD']['fpr_diff'][best_model_idx['SD']],\n",
    "    'fnr_diff': default_results['SD']['fnr_diff'][best_model_idx['SD']],\n",
    "}\n",
    "\n",
    "RESULTS['default']['Vanilla'] = {\n",
    "    'accuracy': default_results['Vanilla']['accuracy'],\n",
    "    'fpr_diff': default_results['Vanilla']['fpr_diff'],\n",
    "    'fnr_diff': default_results['Vanilla']['fnr_diff'],\n",
    "}\n",
    "\n",
    "print(\"-----------DEFAULT-------------------\")\n",
    "print(\"-----------AVD--------------\")\n",
    "print(RESULTS['default']['AVD'])\n",
    "\n",
    "print(\"-----------SD--------------\")\n",
    "print(RESULTS['default']['SD'])\n",
    "\n",
    "print(\"-----------Vanilla--------------\")\n",
    "print(RESULTS['default']['Vanilla'])\n"
   ]
  },
  {
   "cell_type": "code",
   "execution_count": 33,
   "id": "b35a9682",
   "metadata": {},
   "outputs": [
    {
     "data": {
      "application/vnd.jupyter.widget-view+json": {
       "model_id": "55994cbedea246fc9fedc2839eaf9b3c",
       "version_major": 2,
       "version_minor": 0
      },
      "text/plain": [
       "  0%|          | 0/21 [00:00<?, ?it/s]"
      ]
     },
     "metadata": {},
     "output_type": "display_data"
    },
    {
     "name": "stdout",
     "output_type": "stream",
     "text": [
      "Solver fails for c:160.0 and gamma:0.0\n",
      "Solver fails for c:160.0 and gamma:0.0\n",
      "Solver fails for c:160.0 and gamma:0.0\n"
     ]
    },
    {
     "name": "stderr",
     "output_type": "stream",
     "text": [
      "/home/amanr/.local/lib/python3.9/site-packages/numpy/lib/function_base.py:495: RuntimeWarning: Mean of empty slice.\n",
      "  avg = a.mean(axis)\n",
      "/home/amanr/.local/lib/python3.9/site-packages/numpy/core/_methods.py:189: RuntimeWarning: invalid value encountered in double_scalars\n",
      "  ret = ret.dtype.type(ret / rcount)\n"
     ]
    },
    {
     "data": {
      "application/vnd.jupyter.widget-view+json": {
       "model_id": "d1f8a2fe2f234f3a9815e3f50c0b7001",
       "version_major": 2,
       "version_minor": 0
      },
      "text/plain": [
       "  0%|          | 0/21 [00:00<?, ?it/s]"
      ]
     },
     "metadata": {},
     "output_type": "display_data"
    },
    {
     "data": {
      "application/vnd.jupyter.widget-view+json": {
       "model_id": "4713a1269e544588b60dac5eef5ee07e",
       "version_major": 2,
       "version_minor": 0
      },
      "text/plain": [
       "  0%|          | 0/21 [00:00<?, ?it/s]"
      ]
     },
     "metadata": {},
     "output_type": "display_data"
    },
    {
     "name": "stdout",
     "output_type": "stream",
     "text": [
      "Solver fails for c:160.0 and gamma:0.0\n",
      "Solver fails for c:160.0 and gamma:0.0\n",
      "Solver fails for c:160.0 and gamma:0.0\n"
     ]
    },
    {
     "data": {
      "application/vnd.jupyter.widget-view+json": {
       "model_id": "23315df182d143f9abb56c9ea956f84e",
       "version_major": 2,
       "version_minor": 0
      },
      "text/plain": [
       "  0%|          | 0/21 [00:00<?, ?it/s]"
      ]
     },
     "metadata": {},
     "output_type": "display_data"
    },
    {
     "data": {
      "application/vnd.jupyter.widget-view+json": {
       "model_id": "b898bd8449bb46409b80428b24707c88",
       "version_major": 2,
       "version_minor": 0
      },
      "text/plain": [
       "  0%|          | 0/21 [00:00<?, ?it/s]"
      ]
     },
     "metadata": {},
     "output_type": "display_data"
    },
    {
     "name": "stdout",
     "output_type": "stream",
     "text": [
      "Solver fails for c:160.0 and gamma:0.0\n",
      "Solver fails for c:160.0 and gamma:0.0\n",
      "Solver fails for c:160.0 and gamma:0.0\n"
     ]
    },
    {
     "data": {
      "application/vnd.jupyter.widget-view+json": {
       "model_id": "34fc154ebf5141f2bec8a90c96b4dcfc",
       "version_major": 2,
       "version_minor": 0
      },
      "text/plain": [
       "  0%|          | 0/21 [00:00<?, ?it/s]"
      ]
     },
     "metadata": {},
     "output_type": "display_data"
    },
    {
     "data": {
      "application/vnd.jupyter.widget-view+json": {
       "model_id": "0de169bdf6634b55a10f7cd4d2a207d6",
       "version_major": 2,
       "version_minor": 0
      },
      "text/plain": [
       "  0%|          | 0/21 [00:00<?, ?it/s]"
      ]
     },
     "metadata": {},
     "output_type": "display_data"
    },
    {
     "name": "stdout",
     "output_type": "stream",
     "text": [
      "Solver fails for c:160.0 and gamma:0.0\n",
      "Solver fails for c:160.0 and gamma:0.0\n",
      "Solver fails for c:160.0 and gamma:0.0\n"
     ]
    },
    {
     "data": {
      "application/vnd.jupyter.widget-view+json": {
       "model_id": "387f28f5400a493b832be3cf45b7e149",
       "version_major": 2,
       "version_minor": 0
      },
      "text/plain": [
       "  0%|          | 0/21 [00:00<?, ?it/s]"
      ]
     },
     "metadata": {},
     "output_type": "display_data"
    },
    {
     "data": {
      "application/vnd.jupyter.widget-view+json": {
       "model_id": "ae694e12d4c14f00b86bda3ab042bced",
       "version_major": 2,
       "version_minor": 0
      },
      "text/plain": [
       "  0%|          | 0/21 [00:00<?, ?it/s]"
      ]
     },
     "metadata": {},
     "output_type": "display_data"
    },
    {
     "name": "stdout",
     "output_type": "stream",
     "text": [
      "Solver fails for c:160.0 and gamma:0.0\n",
      "Solver fails for c:160.0 and gamma:0.0\n",
      "Solver fails for c:160.0 and gamma:0.0\n"
     ]
    },
    {
     "data": {
      "application/vnd.jupyter.widget-view+json": {
       "model_id": "3842ab3ff77142e68500852f6a2b1774",
       "version_major": 2,
       "version_minor": 0
      },
      "text/plain": [
       "  0%|          | 0/21 [00:00<?, ?it/s]"
      ]
     },
     "metadata": {},
     "output_type": "display_data"
    }
   ],
   "source": [
    "admission_results = solve(X_admission, y_admission, problem['admission'])\n",
    "\n",
    "best_model_idx = {}\n",
    "best_model_idx['AVD'] = 0\n",
    "best_model_idx['SD'] = 0\n",
    "\n",
    "loss = {\n",
    "    'AVD': [],\n",
    "    'SD': []\n",
    "}\n",
    "\n",
    "for i in range(len(admission_results['AVD']['accuracy'])):\n",
    "    loss['AVD'] += [admission_results['AVD']['accuracy'][i] + admission_results['AVD']['fpr_diff'][i] + admission_results['AVD']['fnr_diff'][i]]\n",
    "\n",
    "for i in range(len(admission_results['SD']['accuracy'])):\n",
    "    loss['SD'] += [admission_results['SD']['accuracy'][i] + admission_results['SD']['fpr_diff'][i] + admission_results['SD']['fnr_diff'][i]]\n",
    "\n",
    "loss['AVD'] = np.array(loss['AVD'])\n",
    "loss['SD'] = np.array(loss['SD'])\n",
    "\n",
    "best_model_idx['AVD'] = loss['AVD'].argmin()\n",
    "best_model_idx['SD'] = loss['SD'].argmin()\n",
    "\n",
    "RESULTS['admission']['AVD'] = {\n",
    "    'accuracy': admission_results['AVD']['accuracy'][best_model_idx['AVD']],\n",
    "    'fpr_diff': admission_results['AVD']['fpr_diff'][best_model_idx['AVD']],\n",
    "    'fnr_diff': admission_results['AVD']['fnr_diff'][best_model_idx['AVD']],\n",
    "}\n",
    "RESULTS['admission']['SD'] = {\n",
    "    'accuracy': admission_results['SD']['accuracy'][best_model_idx['SD']],\n",
    "    'fpr_diff': admission_results['SD']['fpr_diff'][best_model_idx['SD']],\n",
    "    'fnr_diff': admission_results['SD']['fnr_diff'][best_model_idx['SD']],\n",
    "}\n",
    "RESULTS['admission']['Vanilla'] = {\n",
    "    'accuracy': admission_results['Vanilla']['accuracy'],\n",
    "    'fpr_diff': admission_results['Vanilla']['fpr_diff'],\n",
    "    'fnr_diff': admission_results['Vanilla']['fnr_diff'],\n",
    "}\n"
   ]
  },
  {
   "cell_type": "code",
   "execution_count": 22,
   "id": "9bfb4e1f",
   "metadata": {},
   "outputs": [
    {
     "name": "stdout",
     "output_type": "stream",
     "text": [
      "-----------ADMISSION-------------------\n",
      "-----------AVD--------------\n",
      "{'accuracy': 0.93562947325476036, 'fpr_diff': 0.0206622613802791, 'fnr_diff': 0.0049282296650598}\n",
      "-----------SD--------------\n",
      "{'accuracy': 0.9390384638364061, 'fpr_diff': 0.0196622613802795, 'fnr_diff': 0.0099750372816284}\n",
      "-----------Vanilla--------------\n",
      "{'accuracy': 0.9409116559201354, 'fpr_diff': 0.1773625374937212, 'fnr_diff': 0.21928229665059894}\n"
     ]
    }
   ],
   "source": [
    "\n",
    "print(\"-----------ADMISSION-------------------\")\n",
    "print(\"-----------AVD--------------\")\n",
    "print(RESULTS['admission']['AVD'])\n",
    "\n",
    "print(\"-----------SD--------------\")\n",
    "print(RESULTS['admission']['SD'])\n",
    "\n",
    "print(\"-----------Vanilla--------------\")\n",
    "print(RESULTS['admission']['Vanilla'])\n"
   ]
  },
  {
   "cell_type": "markdown",
   "id": "3ca91a22",
   "metadata": {},
   "source": [
    "### Results for this section are summarized below\n",
    "\n",
    "\n",
    "\n",
    "\n",
    "| **Accuracy** | Adult Dataset | Default Dataset |  Admissions Dataset |\n",
    "| -- | -- | -- | -- |\n",
    "| AVD | 0.743 | 0.790 | 0.936 |\n",
    "| SD | 0.749 | 0.779 |0.939 |\n",
    "| Vanilla Regularized Logistic Regression | 0.783 |0.804 |0.941 |\n",
    "| | | | |\n",
    "| **$D_{FPR}$** | Adult Dataset | Default Dataset | Admissions Dataset |\n",
    "| -- | -- | -- | -- |\n",
    "| AVD | 0.035 | 0.001 | 0.021 |\n",
    "| SD | 0.031| 0.001 | 0.019 |\n",
    "| Vanilla Regularized Logistic Regression | 0.062 |0.014 |0.177 |\n",
    "| | | | |\n",
    "| **$D_{FNR}$** | Adult Dataset | Default Dataset | Admissions Dataset |\n",
    "| -- | -- | -- | -- |\n",
    "| AVD | 0.000 | 0.0015 | 0.004 |\n",
    "| SD | 0.050 | 0.002 | 0.009|\n",
    "| Vanilla Regularized Logistic Regression | 0.323 |0.056 |0.213 |\n",
    "\n",
    "**Note**: The cells have been run multiple times, these outputs denote the best results generated."
   ]
  },
  {
   "cell_type": "markdown",
   "id": "b127b876",
   "metadata": {},
   "source": [
    "---\n",
    "\n",
    "## Part 3\n",
    "\n",
    "> Plotting `c` vs `accuracy`/`fpr`/`fnr`/`fpr diff`/`fnr diff` graphs."
   ]
  },
  {
   "cell_type": "markdown",
   "id": "b48df164",
   "metadata": {},
   "source": [
    "## Visualization Utilities\n",
    "\n",
    "From the `result` variables above (`compas_results` and `adult_results` which contain the metrics w.r.t `c` itself), we just plot them using `matplotlib`."
   ]
  },
  {
   "cell_type": "code",
   "execution_count": 23,
   "id": "a7d66bf4",
   "metadata": {},
   "outputs": [],
   "source": [
    "def plot_stats(problem, results, name):\n",
    "    import matplotlib.pyplot as plt\n",
    "    x_axis = np.linspace(\n",
    "        problem['c'][0], problem['c'][1], num=problem['c'][2])\n",
    "    \n",
    "    plt.close('all')\n",
    "    plt.rcParams[\"figure.figsize\"] = (12, 6)\n",
    "\n",
    "    fig, (ax1, ax2)=plt.subplots(1, 2)\n",
    "    # fig.set_title(name)\n",
    "    #------- Plot AVD --------------\n",
    "    ax1.set_title('AVD')\n",
    "    avd = results['AVD']\n",
    "    ax1.set_autoscaley_on(False)\n",
    "    ax1.set_ylim([0,1])\n",
    "    ax1.plot(x_axis, avd['accuracy'], 'r-', label=\"Accuracy\",linewidth=2)\n",
    "    ax1.plot(x_axis, avd['fpr_diff'], 'g-', label=\"FPR Discrepancy\")\n",
    "    ax1.plot(x_axis, avd['fnr_diff'], 'b-', label=\"FNR Discrepancy\")\n",
    "    ax1.plot(x_axis, avd['relaxed_fpr_diff'], 'g--', label=\"Relaxed FPR Discrepancy\")\n",
    "    ax1.plot(x_axis, avd['relaxed_fnr_diff'], 'b--', label=\"Relaxed FNR Discrepancy\")\n",
    "    ax1.set_xlim([problem['c'][0], problem['c'][1]])\n",
    "    #------- Plot SD ---------------\n",
    "    ax2.set_title('SD')\n",
    "    sd = results['SD']\n",
    "    ax2.set_autoscaley_on(False)\n",
    "    ax2.plot(x_axis, sd['accuracy'], 'r-', label=\"Accuracy\",linewidth=2)\n",
    "    ax2.plot(x_axis, sd['fpr_diff'], 'g-', label=\"FPR Discrepancy\")\n",
    "    ax2.plot(x_axis, sd['fnr_diff'], 'b-', label=\"FNR Discrepancy\")\n",
    "    ax2.plot(x_axis, sd['relaxed_fpr_diff'], 'g--', label=\"Relaxed FPR Discrepancy\")\n",
    "    ax2.plot(x_axis, sd['relaxed_fnr_diff'], 'b--', label=\"Relaxed FNR Discrepancy\")\n",
    "    ax2.set_xlim([problem['c'][0], problem['c'][1]])\n",
    "    \n",
    "    ax1.legend(loc=\"best\")\n",
    "    ax2.legend(loc=\"best\")\n",
    "    plt.show()"
   ]
  },
  {
   "cell_type": "code",
   "execution_count": 214,
   "id": "e764ef5d",
   "metadata": {},
   "outputs": [
    {
     "data": {
      "image/png": "[encoded data removed]",
      "text/plain": [
       "<Figure size 864x432 with 2 Axes>"
      ]
     },
     "metadata": {
      "needs_background": "light"
     },
     "output_type": "display_data"
    }
   ],
   "source": [
    "%matplotlib inline\n",
    "\n",
    "plot_stats(problem['compas'], compas_results,'Compas')"
   ]
  },
  {
   "cell_type": "code",
   "execution_count": 24,
   "id": "a290d289",
   "metadata": {},
   "outputs": [
    {
     "data": {
      "image/png": "[encoded data removed]",
      "text/plain": [
       "<Figure size 864x432 with 2 Axes>"
      ]
     },
     "metadata": {
      "needs_background": "light"
     },
     "output_type": "display_data"
    }
   ],
   "source": [
    "%matplotlib inline\n",
    "\n",
    "plot_stats(problem['adult'], adult_results,'Adult')"
   ]
  }
 ],
 "metadata": {
  "kernelspec": {
   "display_name": "Python 3.9.14 64-bit",
   "language": "python",
   "name": "python3"
  },
  "language_info": {
   "codemirror_mode": {
    "name": "ipython",
    "version": 3
   },
   "file_extension": ".py",
   "mimetype": "text/x-python",
   "name": "python",
   "nbconvert_exporter": "python",
   "pygments_lexer": "ipython3",
   "version": "3.9.14"
  },
  "vscode": {
   "interpreter": {
    "hash": "36cf16204b8548560b1c020c4e8fb5b57f0e4c58016f52f2d4be01e192833930"
   }
  }
 },
 "nbformat": 4,
 "nbformat_minor": 5
}
